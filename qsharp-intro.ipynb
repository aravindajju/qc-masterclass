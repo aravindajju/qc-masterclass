{
 "cells": [
  {
   "cell_type": "markdown",
   "metadata": {},
   "source": [
    "# Quantum Gates using Q#\n",
    "\n",
    "This Jupyter notebook is intended to teach Quantum Gates, which are the building blocks for writing programs for Quantum computers.  We will be using Microsoft Q#, however we don't intend to teach Q# in this notebook.    We will start with a hello world, to give a flavor of Q#. \n",
    "\n",
    "This Jupyter notebook already has the necessary runtime required for running Q#.   You don't need to install any specific software to run this notebook.   Please continue to use your browser, and run the code snippets by hitting the 'Run' button.\n",
    "\n",
    "\n",
    "## Q# Hello World\n",
    "\n",
    "Q# is very similar to other C family of languages including C, C#, Python, Java, JavaScript etc., \n",
    "\n",
    "Here is your first Hello world program using Q# which shows how you define a function in Q#.   Run the following cell, by hitting the 'Run' button.  This will compile the Q# function 'SayHello()', ready for you to use."
   ]
  },
  {
   "cell_type": "code",
   "execution_count": 2,
   "metadata": {},
   "outputs": [
    {
     "data": {
      "application/json": "[\"SayHello\"]",
      "text/html": [
       "<ul><li>SayHello</li></ul>"
      ],
      "text/plain": [
       "SayHello"
      ]
     },
     "execution_count": 2,
     "metadata": {},
     "output_type": "execute_result"
    }
   ],
   "source": [
    "operation SayHello () : Unit {\n",
    "    Message(\"Hello from quantum world!\");\n",
    "}"
   ]
  },
  {
   "cell_type": "markdown",
   "metadata": {},
   "source": [
    "Once you see 'SayHello' as the output, now you can use Quantum simulator to execute this function.   Please run the following code and see the output.  "
   ]
  },
  {
   "cell_type": "code",
   "execution_count": 3,
   "metadata": {},
   "outputs": [
    {
     "name": "stdout",
     "output_type": "stream",
     "text": [
      "Hello from quantum world!\n"
     ]
    },
    {
     "data": {
      "application/json": "{\"@type\":\"tuple\"}",
      "text/plain": [
       "()"
      ]
     },
     "execution_count": 3,
     "metadata": {},
     "output_type": "execute_result"
    }
   ],
   "source": [
    "%simulate SayHello"
   ]
  },
  {
   "cell_type": "markdown",
   "metadata": {},
   "source": [
    "# Quantum Bit\n",
    "\n",
    "Quntum Bit or Qubit is the fundamental logical unit used in Quantum programming.  All Quantum gates operate on Qubits.  Qubits behave differently than the bits used in classical computers.   A qubit can be in state $0$ or in state $1$, or in a combination(called superposition) of these 2 states.\n",
    "\n",
    "Qubit is represented as a vector (single column matrix)\n",
    "\n",
    "$$\\begin{pmatrix} a \\\\ b \\end{pmatrix}$$\n",
    "\n",
    "The following is a simple program to demonstrate how a Qubit is setup.\n"
   ]
  },
  {
   "cell_type": "code",
   "execution_count": 7,
   "metadata": {},
   "outputs": [
    {
     "data": {
      "application/json": "[\"Qubits_Demo1\"]",
      "text/html": [
       "<ul><li>Qubits_Demo1</li></ul>"
      ],
      "text/plain": [
       "Qubits_Demo1"
      ]
     },
     "execution_count": 7,
     "metadata": {},
     "output_type": "execute_result"
    }
   ],
   "source": [
    "// Run this cell using Ctrl+Enter (⌘+Enter on Mac)\n",
    "// Then run the next cell to see the output\n",
    "\n",
    "open Microsoft.Quantum.Diagnostics;\n",
    "\n",
    "operation Qubits_Demo1 () : Unit {\n",
    "    \n",
    "    // This line allocates a qubit in state |0⟩\n",
    "    using (q = Qubit()) {\n",
    "\n",
    "        Message(\"State |0⟩:\");\n",
    "        \n",
    "        // This line prints out the state of the quantum computer\n",
    "        // Since only one qubit is allocated, only its state is printed\n",
    "        DumpMachine();\n",
    "        \n",
    "    }\n",
    "}"
   ]
  },
  {
   "cell_type": "markdown",
   "metadata": {},
   "source": [
    "Please execute the following to see the Qubit state.   As you can see the value against |0> is 1.0 and |1> is 0.0.   This indicates that Qubit is set to state |0>."
   ]
  },
  {
   "cell_type": "code",
   "execution_count": 8,
   "metadata": {},
   "outputs": [
    {
     "name": "stdout",
     "output_type": "stream",
     "text": [
      "State |0⟩:\n",
      "# wave function for qubits with ids (least to most significant): 0\n",
      "∣0❭:\t 1.000000 +  0.000000 i\t == \t******************** [ 1.000000 ]     --- [  0.00000 rad ]\n",
      "∣1❭:\t 0.000000 +  0.000000 i\t == \t                     [ 0.000000 ]                   \n"
     ]
    },
    {
     "data": {
      "application/json": "{\"@type\":\"tuple\"}",
      "text/plain": [
       "()"
      ]
     },
     "execution_count": 8,
     "metadata": {},
     "output_type": "execute_result"
    }
   ],
   "source": [
    "%simulate Qubits_Demo1"
   ]
  },
  {
   "cell_type": "markdown",
   "metadata": {},
   "source": [
    "### X Gate\n",
    "\n",
    "X gate is changes the qubit from state |0⟩ to state |1⟩.   The following program illustates the same.\n",
    "       "
   ]
  },
  {
   "cell_type": "code",
   "execution_count": null,
   "metadata": {},
   "outputs": [],
   "source": [
    "// Run this cell using Ctrl+Enter (⌘+Enter on Mac)\n",
    "// Then run the next cell to see the output\n",
    "\n",
    "open Microsoft.Quantum.Diagnostics;\n",
    "\n",
    "operation Qubits_Demo2 () : Unit {\n",
    "    \n",
    "    // This line allocates a qubit in state |0⟩\n",
    "    using (q = Qubit()) {\n",
    "\n",
    "        Message(\"State |0⟩:\");      \n",
    "        // This line prints out the state of the quantum computer\n",
    "        // Since only one qubit is allocated, only its state is printed\n",
    "        DumpMachine();\n",
    "        \n",
    "        // changing state |0⟩ to state |1⟩\n",
    "        X(q);\n",
    "        \n",
    "        Message(\"State |1⟩:\");\n",
    "        DumpMachine();\n",
    "        \n",
    "    }\n",
    "}"
   ]
  }
 ],
 "metadata": {
  "kernelspec": {
   "display_name": "Q#",
   "language": "qsharp",
   "name": "iqsharp"
  },
  "language_info": {
   "file_extension": ".qs",
   "mimetype": "text/x-qsharp",
   "name": "qsharp",
   "version": "0.4"
  }
 },
 "nbformat": 4,
 "nbformat_minor": 2
}
