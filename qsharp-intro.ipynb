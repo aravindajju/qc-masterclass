{
 "cells": [
  {
   "cell_type": "markdown",
   "metadata": {},
   "source": [
    "### Important note before using this notebook\n",
    "\n",
    "This page is a Jupyter notebook, and is intenteded to introduce basic Quantum gates and logic.  This notebook is readonly hecne you can't use it as is.   Please save this notebook into your root folder (\\), by clicking \"File -> Save as ...\" before you use it.  \n",
    "\n",
    "This Jupyter notebook already has the necessary runtime required for running Q#.   So you don't have to install any specific software to run this notebook.   Please continue to use your browser, and run the code snippets by hitting Ctrl + Enter.  \n",
    "\n",
    "---"
   ]
  },
  {
   "cell_type": "markdown",
   "metadata": {},
   "source": [
    "# Quantum Gates using Q# Programming Language\n",
    "\n",
    "Quantum Gates are the basic building blocks for writing programs for Quantum computers.  In way these are similar to Logic gates such as 'AND', 'OR', and 'XOR' that we use in classic computer.   To learn about Quantum gates, we will use Microsoft Q# programming language. However intention is not to teach Q# in this notebook.    We will start with a basic hello world program, to give a flavor of Q#. \n",
    "itting the 'Run' button.\n",
    "\n",
    "## Q# Hello World\n",
    "\n",
    "Q# is very similar to other C family of languages including C, C#, Python, Java, JavaScript etc., \n",
    "\n",
    "Here is your first Hello World program using Q# which shows how to define a function in Q#.   Run the following cell, by hitting the 'Run' button or using Ctrl + Enter.  This will compile the Q# function 'SayHello()', ready for you to use."
   ]
  },
  {
   "cell_type": "code",
   "execution_count": 7,
   "metadata": {},
   "outputs": [
    {
     "data": {
      "application/json": "[\"SayHello\"]",
      "text/html": [
       "<ul><li>SayHello</li></ul>"
      ],
      "text/plain": [
       "SayHello"
      ]
     },
     "execution_count": 7,
     "metadata": {},
     "output_type": "execute_result"
    }
   ],
   "source": [
    "// Run this cell using Ctrl+Enter (⌘+Enter on Mac)\n",
    "\n",
    "operation SayHello () : Unit {\n",
    "    Message(\"Hello from quantum world!\");\n",
    "}"
   ]
  },
  {
   "cell_type": "markdown",
   "metadata": {},
   "source": [
    "Once you see 'SayHello' as the output for the above cell, you can usethe  Quantum simulator to execute this function.   Please run the following code and see the output.  "
   ]
  },
  {
   "cell_type": "code",
   "execution_count": 8,
   "metadata": {
    "scrolled": true
   },
   "outputs": [
    {
     "name": "stdout",
     "output_type": "stream",
     "text": [
      "Hello from quantum world!\n"
     ]
    },
    {
     "data": {
      "application/json": "{\"@type\":\"tuple\"}",
      "text/plain": [
       "()"
      ]
     },
     "execution_count": 8,
     "metadata": {},
     "output_type": "execute_result"
    }
   ],
   "source": [
    "// Run this cell using Ctrl+Enter (⌘+Enter on Mac)\n",
    "\n",
    "\n",
    "%simulate SayHello"
   ]
  },
  {
   "cell_type": "markdown",
   "metadata": {},
   "source": [
    "# Quantum Bit\n",
    "\n",
    "Quntum Bit or Qubit is the fundamental logical unit used in Quantum programming.  All Quantum Gates operate on one or more of Qubits.  Qubits behave differently than the bits used in classical computers.   A qubit can be in state $0$ or in state $1$, or in a combination(called superposition) of these 2 states.\n",
    "\n",
    "Qubit is represented as a vector (single column matrix)\n",
    "\n",
    "$$\\begin{pmatrix} a \\\\ b \\end{pmatrix}$$\n",
    "\n",
    "Qubit |0⟩ is the vector $$\\begin{pmatrix} 1 \\\\ 0 \\end{pmatrix}$$\n",
    "Qubit |1⟩ is the vector $$\\begin{pmatrix} 0 \\\\ 1 \\end{pmatrix}$$\n",
    "  \n",
    "The following is a simple program to demonstrate how a Qubit is setup and initialized."
   ]
  },
  {
   "cell_type": "code",
   "execution_count": 9,
   "metadata": {},
   "outputs": [
    {
     "data": {
      "application/json": "[\"Qubits_Demo1\"]",
      "text/html": [
       "<ul><li>Qubits_Demo1</li></ul>"
      ],
      "text/plain": [
       "Qubits_Demo1"
      ]
     },
     "execution_count": 9,
     "metadata": {},
     "output_type": "execute_result"
    }
   ],
   "source": [
    "// Run this cell using Ctrl+Enter (⌘+Enter on Mac)\n",
    "// Then run the next cell to see the output\n",
    "\n",
    "open Microsoft.Quantum.Diagnostics;\n",
    "\n",
    "operation Qubits_Demo1 () : Unit {\n",
    "    \n",
    "    // This line allocates a qubit in state |0⟩\n",
    "    using (q = Qubit()) {\n",
    "\n",
    "        Message(\"State |0⟩:\");\n",
    "        \n",
    "        // This line prints out the state of the quantum computer\n",
    "        // Since only one qubit is allocated, only its state is printed\n",
    "        DumpMachine();\n",
    "        \n",
    "    }\n",
    "}"
   ]
  },
  {
   "cell_type": "markdown",
   "metadata": {},
   "source": [
    "Please execute the following to see the Qubit state.   As you can see the value against |0⟩ is 1.0 and |1⟩ is 0.0.   This represnts the vector $$\\begin{pmatrix} 1 \\\\ 0 \\end{pmatrix}$$.   Hence the Qubit is set to state |0⟩."
   ]
  },
  {
   "cell_type": "code",
   "execution_count": 10,
   "metadata": {},
   "outputs": [
    {
     "name": "stdout",
     "output_type": "stream",
     "text": [
      "State |0⟩:\n",
      "# wave function for qubits with ids (least to most significant): 0\n",
      "∣0❭:\t 1.000000 +  0.000000 i\t == \t******************** [ 1.000000 ]     --- [  0.00000 rad ]\n",
      "∣1❭:\t 0.000000 +  0.000000 i\t == \t                     [ 0.000000 ]                   \n"
     ]
    },
    {
     "data": {
      "application/json": "{\"@type\":\"tuple\"}",
      "text/plain": [
       "()"
      ]
     },
     "execution_count": 10,
     "metadata": {},
     "output_type": "execute_result"
    }
   ],
   "source": [
    "%simulate Qubits_Demo1"
   ]
  },
  {
   "cell_type": "markdown",
   "metadata": {},
   "source": [
    "### X Gate\n",
    "\n",
    "X Gate changes a Qubit from state |0⟩ to state |1⟩ or vice versa.  X Gate is similar to classic NOT gate. The following program illustates how X Gate works.\n",
    "       "
   ]
  },
  {
   "cell_type": "code",
   "execution_count": 3,
   "metadata": {},
   "outputs": [
    {
     "data": {
      "application/json": "[\"Qubits_Demo2\"]",
      "text/html": [
       "<ul><li>Qubits_Demo2</li></ul>"
      ],
      "text/plain": [
       "Qubits_Demo2"
      ]
     },
     "execution_count": 3,
     "metadata": {},
     "output_type": "execute_result"
    }
   ],
   "source": [
    "// Run this cell using Ctrl+Enter (⌘+Enter on Mac)\n",
    "// Then run the next cell to see the output\n",
    "\n",
    "open Microsoft.Quantum.Diagnostics;\n",
    "\n",
    "operation Qubits_Demo2 () : Unit {\n",
    "    \n",
    "    // This line allocates a qubit in state |0⟩\n",
    "    using (q = Qubit()) {\n",
    "\n",
    "        Message(\"State |0⟩:\");      \n",
    "        // This line prints out the state of the quantum computer\n",
    "        // Since only one qubit is allocated, only its state is printed\n",
    "        DumpMachine();\n",
    "        \n",
    "        // changing state |0⟩ to state |1⟩\n",
    "        X(q);\n",
    "        \n",
    "        Message(\"State |1⟩:\");\n",
    "        \n",
    "        DumpMachine();\n",
    "        \n",
    "        Reset(q);\n",
    "        \n",
    "    }\n",
    "}"
   ]
  },
  {
   "cell_type": "markdown",
   "metadata": {},
   "source": [
    "Please execute the following to see the Qubit state.   As you can see the value against |0⟩ is 1.0 and |1⟩ is 0.0, when the program starts.   After applying X gate, the values get reversed.   $$\\begin{pmatrix} 1 \\\\ 0 \\end{pmatrix}$$ changed to  $$\\begin{pmatrix} 0 \\\\ 1 \\end{pmatrix}$$. "
   ]
  },
  {
   "cell_type": "code",
   "execution_count": 4,
   "metadata": {},
   "outputs": [
    {
     "name": "stdout",
     "output_type": "stream",
     "text": [
      "State |0⟩:\n",
      "# wave function for qubits with ids (least to most significant): 0\n",
      "∣0❭:\t 1.000000 +  0.000000 i\t == \t******************** [ 1.000000 ]     --- [  0.00000 rad ]\n",
      "∣1❭:\t 0.000000 +  0.000000 i\t == \t                     [ 0.000000 ]                   \n",
      "State |1⟩:\n",
      "# wave function for qubits with ids (least to most significant): 0\n",
      "∣0❭:\t 0.000000 +  0.000000 i\t == \t                     [ 0.000000 ]                   \n",
      "∣1❭:\t 1.000000 +  0.000000 i\t == \t******************** [ 1.000000 ]     --- [  0.00000 rad ]\n"
     ]
    },
    {
     "data": {
      "application/json": "{\"@type\":\"tuple\"}",
      "text/plain": [
       "()"
      ]
     },
     "execution_count": 4,
     "metadata": {},
     "output_type": "execute_result"
    }
   ],
   "source": [
    "%simulate Qubits_Demo2"
   ]
  },
  {
   "cell_type": "markdown",
   "metadata": {},
   "source": [
    "### H Gate\n",
    "\n",
    "Unique behavior of Qubit, when compared to classic bit is __superposition__.  H gate or Hadamard gate, puts a Qubit into superposition state.   \n",
    "\n",
    "Run the example below."
   ]
  },
  {
   "cell_type": "code",
   "execution_count": 5,
   "metadata": {},
   "outputs": [
    {
     "data": {
      "application/json": "[\"Qubits_Demo3\"]",
      "text/html": [
       "<ul><li>Qubits_Demo3</li></ul>"
      ],
      "text/plain": [
       "Qubits_Demo3"
      ]
     },
     "execution_count": 5,
     "metadata": {},
     "output_type": "execute_result"
    }
   ],
   "source": [
    "// Run this cell using Ctrl+Enter (⌘+Enter on Mac)\n",
    "// Then run the next cell to see the output\n",
    "\n",
    "open Microsoft.Quantum.Diagnostics;\n",
    "\n",
    "operation Qubits_Demo3 () : Unit {\n",
    "    \n",
    "    // This line allocates a qubit in state |0⟩\n",
    "    using (q = Qubit()) {\n",
    "\n",
    "        Message(\"State |0⟩:\");      \n",
    "        // This line prints out the state of the quantum computer\n",
    "        // Since only one qubit is allocated, only its state is printed\n",
    "        DumpMachine();\n",
    "        \n",
    "        // put the Qubit into Superposition state\n",
    "        H(q);\n",
    "        \n",
    "        Message(\"State after H gate applied:\");\n",
    "        \n",
    "        DumpMachine();\n",
    "        \n",
    "        Reset(q);\n",
    "        \n",
    "    }\n",
    "}"
   ]
  },
  {
   "cell_type": "markdown",
   "metadata": {},
   "source": [
    "Please execute the following.   You can that it is 0 half the time, and a 1 the rest of the time.  It is like flipping a fair coin.  Results are 50/50 between |0⟩ and |1⟩."
   ]
  },
  {
   "cell_type": "code",
   "execution_count": 6,
   "metadata": {},
   "outputs": [
    {
     "name": "stdout",
     "output_type": "stream",
     "text": [
      "State |0⟩:\n",
      "# wave function for qubits with ids (least to most significant): 0\n",
      "∣0❭:\t 1.000000 +  0.000000 i\t == \t******************** [ 1.000000 ]     --- [  0.00000 rad ]\n",
      "∣1❭:\t 0.000000 +  0.000000 i\t == \t                     [ 0.000000 ]                   \n",
      "State after H gate applied:\n",
      "# wave function for qubits with ids (least to most significant): 0\n",
      "∣0❭:\t 0.707107 +  0.000000 i\t == \t***********          [ 0.500000 ]     --- [  0.00000 rad ]\n",
      "∣1❭:\t 0.707107 +  0.000000 i\t == \t***********          [ 0.500000 ]     --- [  0.00000 rad ]\n"
     ]
    },
    {
     "data": {
      "application/json": "{\"@type\":\"tuple\"}",
      "text/plain": [
       "()"
      ]
     },
     "execution_count": 6,
     "metadata": {},
     "output_type": "execute_result"
    }
   ],
   "source": [
    "%simulate Qubits_Demo3"
   ]
  }
 ],
 "metadata": {
  "kernelspec": {
   "display_name": "Q#",
   "language": "qsharp",
   "name": "iqsharp"
  },
  "language_info": {
   "file_extension": ".qs",
   "mimetype": "text/x-qsharp",
   "name": "qsharp",
   "version": "0.4"
  }
 },
 "nbformat": 4,
 "nbformat_minor": 2
}
