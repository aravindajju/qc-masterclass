{
 "cells": [
  {
   "cell_type": "markdown",
   "metadata": {},
   "source": [
    "### Important note before using this notebook\n",
    "\n",
    "This page is a Jupyter notebook, and is intenteded to introduce basic Quantum gates and logic.  \n",
    "\n",
    "This Jupyter notebook  has the necessary runtime required for running Q#.   So you don't have to install any specific software to run this notebook.   Please continue to use your browser, and run the code snippets by hitting Ctrl + Enter.  \n",
    "\n",
    "---\n"
   ]
  },
  {
   "cell_type": "markdown",
   "metadata": {},
   "source": [
    "# Intro to Quantum Gates and Logic using Q# Programming Language\n",
    "\n",
    "Quantum Gates are the basic building blocks for writing programs for Quantum computers.  In a way these are similar to Logic gates such as 'AND', 'OR', and 'XOR' that we use in classic computer.   To learn about Quantum gates, we will use Microsoft Q# programming language. However intention is not to teach Q# in this notebook.    We will start with a basic hello world program, to give a flavor of Q#. \n",
    "\n",
    "\n",
    "## Q# Hello World \n",
    "\n",
    "Q# is very similar to other C family of languages including C, C#, Python, Java, JavaScript etc., \n",
    "\n",
    "Here is your first Hello World program using Q# which shows how to define a function in Q#.   Run the following cell, by hitting the 'Run' button or using Ctrl + Enter.  This will compile the Q# function 'SayHelloQ()', ready for you to use."
   ]
  },
  {
   "cell_type": "code",
   "execution_count": 10,
   "metadata": {},
   "outputs": [
    {
     "data": {
      "application/json": "[\"SayHelloQ\"]",
      "text/html": [
       "<ul><li>SayHelloQ</li></ul>"
      ],
      "text/plain": [
       "SayHelloQ"
      ]
     },
     "execution_count": 10,
     "metadata": {},
     "output_type": "execute_result"
    }
   ],
   "source": [
    "// Run this cell using Ctrl+Enter (⌘+Enter on Mac)\n",
    "operation SayHelloQ () : Unit {\n",
    "    Message(\"Hello from quantum world!\");\n",
    "}"
   ]
  },
  {
   "cell_type": "markdown",
   "metadata": {},
   "source": [
    "Once you see 'SayHelloQ' as the output for the above cell, you can use the  Quantum simulator to execute this function.   Please run the following code and see the output.  You can use Ctrl+Enter or use the 'Run' button."
   ]
  },
  {
   "cell_type": "code",
   "execution_count": 13,
   "metadata": {},
   "outputs": [
    {
     "name": "stdout",
     "output_type": "stream",
     "text": [
      "Hello from quantum world!\n"
     ]
    },
    {
     "data": {
      "application/json": "{\"@type\":\"tuple\"}",
      "text/plain": [
       "()"
      ]
     },
     "execution_count": 13,
     "metadata": {},
     "output_type": "execute_result"
    }
   ],
   "source": [
    "%simulate SayHelloQ"
   ]
  },
  {
   "cell_type": "markdown",
   "metadata": {},
   "source": [
    "# Quantum Bit\n",
    "\n",
    "Quntum Bit or Qubit is the fundamental logical unit used in Quantum programming.  All Quantum Gates operate on one or more of Qubits.  Qubits behave differently than the bits used in classical computers.   A qubit can be in state $0$ or in state $1$, or in a combination(called superposition) of these 2 states.  You can think of Qubit state is probability of being in state $0$ or in state $1$.\n",
    "\n",
    "Qubit is represented as a vector (single column matrix)\n",
    "\n",
    "$$\\begin{pmatrix} a \\\\ b \\end{pmatrix}$$\n",
    "\n",
    "Qubit |0⟩ is the vector $$\\begin{pmatrix} 1 \\\\ 0 \\end{pmatrix}$$\n",
    "Qubit |1⟩ is the vector $$\\begin{pmatrix} 0 \\\\ 1 \\end{pmatrix}$$\n",
    "  \n",
    "The following is a simple program to demonstrate how a Qubit is setup and initialized."
   ]
  },
  {
   "cell_type": "code",
   "execution_count": 15,
   "metadata": {},
   "outputs": [
    {
     "data": {
      "application/json": "[\"Qubits_Demo1\"]",
      "text/html": [
       "<ul><li>Qubits_Demo1</li></ul>"
      ],
      "text/plain": [
       "Qubits_Demo1"
      ]
     },
     "execution_count": 15,
     "metadata": {},
     "output_type": "execute_result"
    }
   ],
   "source": [
    "// Run this cell using Ctrl+Enter (⌘+Enter on Mac)\n",
    "// Then run the next cell to see the output\n",
    "\n",
    "open Microsoft.Quantum.Diagnostics;\n",
    "\n",
    "operation Qubits_Demo1 () : Unit {\n",
    "    \n",
    "    // This line allocates a qubit in state |0⟩\n",
    "    using (q = Qubit()) {\n",
    "\n",
    "        Message(\"State |0⟩:\");\n",
    "        \n",
    "        // This line prints out the state of the quantum computer\n",
    "        // Since only one qubit is allocated, only its state is printed\n",
    "        DumpMachine();\n",
    "        \n",
    "    }\n",
    "}"
   ]
  },
  {
   "cell_type": "markdown",
   "metadata": {},
   "source": [
    "Please execute the following to see the Qubit state.   As you can see the value against |0⟩ is 1.0 and |1⟩ is 0.0, each representing the probability of Qubit's state being |0⟩ or |1⟩.  In this case, the Qubit is in state |0⟩. This represents the vector $$\\begin{pmatrix} 1 \\\\ 0 \\end{pmatrix}$$.   Hence the Qubit is set to state |0⟩."
   ]
  },
  {
   "cell_type": "code",
   "execution_count": 16,
   "metadata": {},
   "outputs": [
    {
     "name": "stdout",
     "output_type": "stream",
     "text": [
      "State |0⟩:\n",
      "# wave function for qubits with ids (least to most significant): 0\n",
      "∣0❭:\t 1.000000 +  0.000000 i\t == \t******************** [ 1.000000 ]     --- [  0.00000 rad ]\n",
      "∣1❭:\t 0.000000 +  0.000000 i\t == \t                     [ 0.000000 ]                   \n"
     ]
    },
    {
     "data": {
      "application/json": "{\"@type\":\"tuple\"}",
      "text/plain": [
       "()"
      ]
     },
     "execution_count": 16,
     "metadata": {},
     "output_type": "execute_result"
    }
   ],
   "source": [
    "%simulate Qubits_Demo1"
   ]
  },
  {
   "cell_type": "markdown",
   "metadata": {},
   "source": [
    "### $X$ Gate\n",
    "\n",
    "$X$ Gate changes a Qubit from state |0⟩ to state |1⟩ or vice versa.  $X$ Gate is similar to classic NOT gate. The following program illustates how $X$ Gate works.\n",
    "       "
   ]
  },
  {
   "cell_type": "code",
   "execution_count": 20,
   "metadata": {},
   "outputs": [
    {
     "data": {
      "application/json": "[\"Qubits_Demo2\"]",
      "text/html": [
       "<ul><li>Qubits_Demo2</li></ul>"
      ],
      "text/plain": [
       "Qubits_Demo2"
      ]
     },
     "execution_count": 20,
     "metadata": {},
     "output_type": "execute_result"
    }
   ],
   "source": [
    "// Run this cell using Ctrl+Enter (⌘+Enter on Mac)\n",
    "// Then run the next cell to see the output\n",
    "\n",
    "open Microsoft.Quantum.Diagnostics;\n",
    "\n",
    "operation Qubits_Demo2 () : Unit {\n",
    "    \n",
    "    // This line allocates a qubit in state |0⟩\n",
    "    using (q = Qubit()) {\n",
    "\n",
    "        Message(\"State |0⟩:\");      \n",
    "        // This line prints out the state of the quantum computer\n",
    "        DumpMachine();\n",
    "        \n",
    "        // changing state |0⟩ to state |1⟩\n",
    "        X(q);\n",
    "        \n",
    "        Message(\"State |1⟩:\");\n",
    "        // This line prints out the state of the quantum computer\n",
    "        DumpMachine();\n",
    "        \n",
    "        Reset(q);\n",
    "        \n",
    "    }\n",
    "}"
   ]
  },
  {
   "cell_type": "markdown",
   "metadata": {},
   "source": [
    "Please execute the following to see the Qubit state.   As you can see the value against |0⟩ is 1.0 and |1⟩ is 0.0, when the program starts.   After applying X gate, the values get reversed.   $$\\begin{pmatrix} 1 \\\\ 0 \\end{pmatrix}$$ changed to  $$\\begin{pmatrix} 0 \\\\ 1 \\end{pmatrix}$$. "
   ]
  },
  {
   "cell_type": "code",
   "execution_count": 21,
   "metadata": {},
   "outputs": [
    {
     "name": "stdout",
     "output_type": "stream",
     "text": [
      "State |0⟩:\n",
      "# wave function for qubits with ids (least to most significant): 0\n",
      "∣0❭:\t 1.000000 +  0.000000 i\t == \t******************** [ 1.000000 ]     --- [  0.00000 rad ]\n",
      "∣1❭:\t 0.000000 +  0.000000 i\t == \t                     [ 0.000000 ]                   \n",
      "State |1⟩:\n",
      "# wave function for qubits with ids (least to most significant): 0\n",
      "∣0❭:\t 0.000000 +  0.000000 i\t == \t                     [ 0.000000 ]                   \n",
      "∣1❭:\t 1.000000 +  0.000000 i\t == \t******************** [ 1.000000 ]     --- [  0.00000 rad ]\n"
     ]
    },
    {
     "data": {
      "application/json": "{\"@type\":\"tuple\"}",
      "text/plain": [
       "()"
      ]
     },
     "execution_count": 21,
     "metadata": {},
     "output_type": "execute_result"
    }
   ],
   "source": [
    "%simulate Qubits_Demo2"
   ]
  },
  {
   "cell_type": "markdown",
   "metadata": {},
   "source": [
    "### $H$ Gate\n",
    "\n",
    "Unique behavior of Qubit when compared to classic bit is __superposition__.  Superposition refers to a Qubit being in a combination of two states at the same time. $H$ gate or Hadamard gate, puts a Qubit into superposition state.   \n",
    "\n",
    "Run the example below."
   ]
  },
  {
   "cell_type": "code",
   "execution_count": 22,
   "metadata": {},
   "outputs": [
    {
     "data": {
      "application/json": "[\"Qubits_Demo3\"]",
      "text/html": [
       "<ul><li>Qubits_Demo3</li></ul>"
      ],
      "text/plain": [
       "Qubits_Demo3"
      ]
     },
     "execution_count": 22,
     "metadata": {},
     "output_type": "execute_result"
    }
   ],
   "source": [
    "// Run this cell using Ctrl+Enter (⌘+Enter on Mac)\n",
    "// Then run the next cell to see the output\n",
    "\n",
    "open Microsoft.Quantum.Diagnostics;\n",
    "\n",
    "operation Qubits_Demo3 () : Unit {\n",
    "    \n",
    "    // This line allocates a qubit in state |0⟩\n",
    "    using (q = Qubit()) {\n",
    "\n",
    "        Message(\"State |0⟩:\");      \n",
    "        // This line prints out the state of the quantum computer\n",
    "        DumpMachine();\n",
    "        \n",
    "        // put the Qubit into Superposition state\n",
    "        H(q);\n",
    "        \n",
    "        Message(\"State after H gate applied:\");\n",
    "        \n",
    "        // This line prints out the state of the quantum computer       \n",
    "        DumpMachine();\n",
    "        \n",
    "        Reset(q);\n",
    "        \n",
    "    }\n",
    "}"
   ]
  },
  {
   "cell_type": "markdown",
   "metadata": {},
   "source": [
    "Please execute the following.   You can see that it is |0⟩ half the time, and a |1⟩ the rest of the time.  It is like flipping a fair coin.  Results are 50/50 between |0⟩ and |1⟩."
   ]
  },
  {
   "cell_type": "code",
   "execution_count": 23,
   "metadata": {},
   "outputs": [
    {
     "name": "stdout",
     "output_type": "stream",
     "text": [
      "State |0⟩:\n",
      "# wave function for qubits with ids (least to most significant): 0\n",
      "∣0❭:\t 1.000000 +  0.000000 i\t == \t******************** [ 1.000000 ]     --- [  0.00000 rad ]\n",
      "∣1❭:\t 0.000000 +  0.000000 i\t == \t                     [ 0.000000 ]                   \n",
      "State after H gate applied:\n",
      "# wave function for qubits with ids (least to most significant): 0\n",
      "∣0❭:\t 0.707107 +  0.000000 i\t == \t***********          [ 0.500000 ]     --- [  0.00000 rad ]\n",
      "∣1❭:\t 0.707107 +  0.000000 i\t == \t***********          [ 0.500000 ]     --- [  0.00000 rad ]\n"
     ]
    },
    {
     "data": {
      "application/json": "{\"@type\":\"tuple\"}",
      "text/plain": [
       "()"
      ]
     },
     "execution_count": 23,
     "metadata": {},
     "output_type": "execute_result"
    }
   ],
   "source": [
    "%simulate Qubits_Demo3"
   ]
  },
  {
   "cell_type": "markdown",
   "metadata": {},
   "source": [
    "### Other Single Qubit Gates\n",
    "\n",
    "Qubit is often represented visually as 'Block Sphere', which is a 3 dimensional representation across X, Y and Z axis.  You can see the representation here https://en.wikipedia.org/wiki/Bloch_sphere .   Mathematrically this could be represented as a complex number with a phase.\n",
    "\n",
    "Apart from $X$ and $H$ gates, there are few more gates which operate on a single Qubit and effects its state.   These gates are $Y$,$Z$ and $I$.   \n",
    "\n",
    "Try experimenting with the following code by changing the Gate operation and see how it will effect the Qubit state.  Please read the in in the code."
   ]
  },
  {
   "cell_type": "code",
   "execution_count": 24,
   "metadata": {},
   "outputs": [
    {
     "data": {
      "application/json": "[\"Qubits_Demo4\"]",
      "text/html": [
       "<ul><li>Qubits_Demo4</li></ul>"
      ],
      "text/plain": [
       "Qubits_Demo4"
      ]
     },
     "execution_count": 24,
     "metadata": {},
     "output_type": "execute_result"
    }
   ],
   "source": [
    "// Run this cell using Ctrl+Enter (⌘+Enter on Mac)\n",
    "// Then run the next cell to see the output\n",
    "\n",
    "open Microsoft.Quantum.Diagnostics;\n",
    "\n",
    "operation Qubits_Demo4 () : Unit {\n",
    "    \n",
    "    // This line allocates a qubit in state |0⟩\n",
    "    using (q = Qubit()) {\n",
    "\n",
    "        Message(\"State |0⟩:\");      \n",
    "        // This line prints out the state of the quantum computer\n",
    "        DumpMachine();\n",
    "        \n",
    "        // Apply one of the single Qubit gates/Pauli operator by uncommenting one of the line below\n",
    "        I(q);\n",
    "        //Y(q);\n",
    "        //Z(q);\n",
    "\n",
    "        // This line prints out the state of the quantum computer\n",
    "        Message(\"State after Pauli operator applied:\");\n",
    "        \n",
    "        DumpMachine();\n",
    "        \n",
    "        Reset(q);\n",
    "        \n",
    "    }\n",
    "}"
   ]
  },
  {
   "cell_type": "code",
   "execution_count": 25,
   "metadata": {},
   "outputs": [
    {
     "name": "stdout",
     "output_type": "stream",
     "text": [
      "State |0⟩:\n",
      "# wave function for qubits with ids (least to most significant): 0\n",
      "∣0❭:\t 1.000000 +  0.000000 i\t == \t******************** [ 1.000000 ]     --- [  0.00000 rad ]\n",
      "∣1❭:\t 0.000000 +  0.000000 i\t == \t                     [ 0.000000 ]                   \n",
      "State after Pauli operator applied:\n",
      "# wave function for qubits with ids (least to most significant): 0\n",
      "∣0❭:\t 1.000000 +  0.000000 i\t == \t******************** [ 1.000000 ]     --- [  0.00000 rad ]\n",
      "∣1❭:\t 0.000000 +  0.000000 i\t == \t                     [ 0.000000 ]                   \n"
     ]
    },
    {
     "data": {
      "application/json": "{\"@type\":\"tuple\"}",
      "text/plain": [
       "()"
      ]
     },
     "execution_count": 25,
     "metadata": {},
     "output_type": "execute_result"
    }
   ],
   "source": [
    "%simulate Qubits_Demo4"
   ]
  },
  {
   "cell_type": "markdown",
   "metadata": {},
   "source": [
    "Another important property to note is, applying the same gate twice in a row to the same qubit, cancels out the operation.  That is it would cause a full rotation of 2π (360°) over the surface to the Bloch Sphere, thus arriving back at the starting point.\n",
    "\n",
    "Try the following code and checkout."
   ]
  },
  {
   "cell_type": "code",
   "execution_count": 26,
   "metadata": {},
   "outputs": [
    {
     "data": {
      "application/json": "[\"Qubits_Demo5\"]",
      "text/html": [
       "<ul><li>Qubits_Demo5</li></ul>"
      ],
      "text/plain": [
       "Qubits_Demo5"
      ]
     },
     "execution_count": 26,
     "metadata": {},
     "output_type": "execute_result"
    }
   ],
   "source": [
    "// Run this cell using Ctrl+Enter (⌘+Enter on Mac)\n",
    "// Then run the next cell to see the output\n",
    "\n",
    "open Microsoft.Quantum.Diagnostics;\n",
    "\n",
    "operation Qubits_Demo5 () : Unit {\n",
    "    \n",
    "    // This line allocates a qubit in state |0⟩\n",
    "    using (q = Qubit()) {\n",
    "\n",
    "        Message(\"State |0⟩:\");      \n",
    "        // This line prints out the state of the quantum computer\n",
    "        DumpMachine();\n",
    "        \n",
    "        // Apply H gate for the first time\n",
    "        H(q);\n",
    "\n",
    "        // This line prints out the state of the quantum computer\n",
    "        Message(\"State after first pass\");\n",
    "        \n",
    "        DumpMachine();\n",
    "        \n",
    "        // Apply H gate for the first time\n",
    "        H(q);\n",
    "\n",
    "        // This line prints out the state of the quantum computer\n",
    "        Message(\"State after second pass\");\n",
    "        \n",
    "        DumpMachine();\n",
    "\n",
    "\n",
    "        Reset(q);\n",
    "        \n",
    "    }\n",
    "}"
   ]
  },
  {
   "cell_type": "code",
   "execution_count": 27,
   "metadata": {},
   "outputs": [
    {
     "name": "stdout",
     "output_type": "stream",
     "text": [
      "State |0⟩:\n",
      "# wave function for qubits with ids (least to most significant): 0\n",
      "∣0❭:\t 1.000000 +  0.000000 i\t == \t******************** [ 1.000000 ]     --- [  0.00000 rad ]\n",
      "∣1❭:\t 0.000000 +  0.000000 i\t == \t                     [ 0.000000 ]                   \n",
      "State after first pass\n",
      "# wave function for qubits with ids (least to most significant): 0\n",
      "∣0❭:\t 0.707107 +  0.000000 i\t == \t***********          [ 0.500000 ]     --- [  0.00000 rad ]\n",
      "∣1❭:\t 0.707107 +  0.000000 i\t == \t***********          [ 0.500000 ]     --- [  0.00000 rad ]\n",
      "State after second pass\n",
      "# wave function for qubits with ids (least to most significant): 0\n",
      "∣0❭:\t 1.000000 +  0.000000 i\t == \t********************* [ 1.000000 ]     --- [  0.00000 rad ]\n",
      "∣1❭:\t 0.000000 +  0.000000 i\t == \t*                    [ 0.000000 ]     --- [  0.00000 rad ]\n"
     ]
    },
    {
     "data": {
      "application/json": "{\"@type\":\"tuple\"}",
      "text/plain": [
       "()"
      ]
     },
     "execution_count": 27,
     "metadata": {},
     "output_type": "execute_result"
    }
   ],
   "source": [
    "%simulate Qubits_Demo5"
   ]
  },
  {
   "cell_type": "markdown",
   "metadata": {},
   "source": [
    "### $\\text{CNOT}$ Gate\n",
    "\n",
    "$\\text{CNOT}$ (\"controlled NOT\") is a two-qubit gate.   The first qubit is referred to as the control qubit, and the second is the target qubit. $\\text{CNOT}$ acts as a conditional gate. If the control qubit is in state |1⟩, it applies the $X$ gate to the target qubit, otherwise it does nothing.  Run the following problem and see how it works.   Please change the control bit to understand the behavior."
   ]
  },
  {
   "cell_type": "code",
   "execution_count": 28,
   "metadata": {},
   "outputs": [
    {
     "data": {
      "application/json": "[\"Qubits_Demo6\"]",
      "text/html": [
       "<ul><li>Qubits_Demo6</li></ul>"
      ],
      "text/plain": [
       "Qubits_Demo6"
      ]
     },
     "execution_count": 28,
     "metadata": {},
     "output_type": "execute_result"
    }
   ],
   "source": [
    "// Run this cell using Ctrl+Enter (⌘+Enter on Mac)\n",
    "// Then run the next cell to see the output\n",
    "\n",
    "open Microsoft.Quantum.Diagnostics;\n",
    "\n",
    "operation Qubits_Demo6 () : Unit {\n",
    "    \n",
    "    // This line allocates two qubits in state |0⟩\n",
    "    using ((control, target) = (Qubit(), Qubit())) {\n",
    "    \n",
    "    //set the control bit\n",
    "    X(control);\n",
    "    //reset it back - uncomment below to test with Control bit |0⟩ \n",
    "    //X(control);\n",
    "\n",
    "    // Apply CNOT gate \n",
    "    CNOT(control, target);\n",
    "\n",
    "    // This line prints out the state of the quantum computer\n",
    "    Message(\"State after CNOT gate\");\n",
    "\n",
    "    // This line measures qbit states\n",
    "    let c = M(control);\n",
    "    let t=  M(target);\n",
    "    \n",
    "    \n",
    "    Message($\"control: {c}\");\n",
    "    Message($\"target: {t}\");\n",
    "\n",
    "    Reset(control);\n",
    "    Reset(target);\n",
    "        \n",
    "    }\n",
    "}"
   ]
  },
  {
   "cell_type": "code",
   "execution_count": 29,
   "metadata": {},
   "outputs": [
    {
     "name": "stdout",
     "output_type": "stream",
     "text": [
      "State after CNOT gate\n",
      "control: One\n",
      "target: One\n"
     ]
    },
    {
     "data": {
      "application/json": "{\"@type\":\"tuple\"}",
      "text/plain": [
       "()"
      ]
     },
     "execution_count": 29,
     "metadata": {},
     "output_type": "execute_result"
    }
   ],
   "source": [
    "%simulate Qubits_Demo6"
   ]
  }
 ],
 "metadata": {
  "kernelspec": {
   "display_name": "Q#",
   "language": "qsharp",
   "name": "iqsharp"
  },
  "language_info": {
   "file_extension": ".qs",
   "mimetype": "text/x-qsharp",
   "name": "qsharp",
   "version": "0.4"
  }
 },
 "nbformat": 4,
 "nbformat_minor": 2
}