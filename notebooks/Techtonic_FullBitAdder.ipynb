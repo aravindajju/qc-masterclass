{
 "cells": [
  {
   "cell_type": "markdown",
   "metadata": {},
   "source": [
    "# Fullbit Adder\n",
    "\n",
    "Please program a fullbit adder, extending the halfbit adder earlier.  You can use the following truth table\n",
    "\n",
    "| .  | q3 | q2 | q1 | q0 | . | q3    | q2  | q1 | q0 |\n",
    "|----|----|----|----|----|---|-------|-----|----|----|\n",
    "| .  | .  | C  | B  | A  | . | Carry | Sum | B  | A  |\n",
    "| T1 | 0  | 0  | 0  | 0  | - | 0     | 0   | 0  | 0  |\n",
    "| T2 | 0  | 1  | 0  | 0  | - | 0     | 1   | 0  | 0  |\n",
    "| T3 | 0  | 0  | 1  | 0  | - | 0     | 1   | 1  | 0  |\n",
    "| T4 | 0  | 1  | 1  | 0  | - | 1     | 0   | 1  | 0  |\n",
    "| T5 | 0  | 0  | 0  | 1  | - | 0     | 1   | 0  | 1  |\n",
    "| T6 | 0  | 1  | 0  | 1  | - | 1     | 0   | 0  | 1  |\n",
    "| T7 | 0  | 0  | 1  | 1  | - | 1     | 0   | 1  | 1  |\n",
    "| T8 | 0  | 1  | 1  | 1  | - | 1     | 1   | 1  | 1  |\n"
   ]
  },
  {
   "cell_type": "code",
   "execution_count": 3,
   "metadata": {},
   "outputs": [
    {
     "data": {
      "application/json": "[\"FullBitAdder\"]",
      "text/html": [
       "<ul><li>FullBitAdder</li></ul>"
      ],
      "text/plain": [
       "FullBitAdder"
      ]
     },
     "execution_count": 3,
     "metadata": {},
     "output_type": "execute_result"
    }
   ],
   "source": [
    "//*****************************************************************************\n",
    "//Add three Qubits in the same way as classic bits\n",
    "//*****************************************************************************    \n",
    "    \n",
    "    operation FullBitAdder() : Unit {\n",
    "\n",
    "        mutable r = new Result[4];\n",
    "\n",
    "        using((a,b,c,d) = (Qubit(),Qubit(),Qubit(),Qubit()))  { // Allocate qubits\n",
    "            //set up initial values for Qubit\n",
    "            X(a);\n",
    "            //X(b);\n",
    "            X(c);\n",
    "\n",
    "            set r = [M(a), M(b),M(c)];\n",
    "            Message($\"a,b,c : {r}\");\n",
    "\n",
    "            //Use Quantum gates to create the truth table\n",
    "            //---------------------\n",
    "            \n",
    "            \n",
    "            //----------------------\n",
    "            \n",
    "            \n",
    "            let carrybit = M(d);\n",
    "            let sumbit= M(c);\n",
    "            Message($\"Sum : {carrybit} {sumbit}\");\n",
    "            Reset(a);\n",
    "            Reset(b);\n",
    "            Reset(c);\n",
    "            Reset(d);\n",
    "\n",
    "        }\n",
    "\n",
    "    }"
   ]
  },
  {
   "cell_type": "code",
   "execution_count": 2,
   "metadata": {},
   "outputs": [
    {
     "name": "stdout",
     "output_type": "stream",
     "text": [
      "a,b,c : [One,Zero,One]\n",
      "Sum : One Zero\n"
     ]
    },
    {
     "data": {
      "application/json": "{\"@type\":\"tuple\"}",
      "text/plain": [
       "()"
      ]
     },
     "execution_count": 2,
     "metadata": {},
     "output_type": "execute_result"
    }
   ],
   "source": [
    "%simulate FullBitAdder"
   ]
  }
 ],
 "metadata": {
  "kernelspec": {
   "display_name": "Q#",
   "language": "qsharp",
   "name": "iqsharp"
  },
  "language_info": {
   "file_extension": ".qs",
   "mimetype": "text/x-qsharp",
   "name": "qsharp",
   "version": "0.4"
  }
 },
 "nbformat": 4,
 "nbformat_minor": 2
}
