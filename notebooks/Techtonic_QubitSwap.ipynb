{
 "cells": [
  {
   "cell_type": "markdown",
   "metadata": {},
   "source": [
    "# Qubit swap\n",
    "\n",
    "Swap quantum bit states between two quantum registers, without using any additional register.\n",
    "\n",
    "In Boolean this would have been done using XOR the following way:\n",
    "\n",
    "Two bits a, b;\n",
    "\n",
    "`a = a XOR b;\n",
    "b = b XOR a;\n",
    "a = a XOR b;`\n",
    "\n",
    "\n",
    "Value of a and b are swapped "
   ]
  },
  {
   "cell_type": "code",
   "execution_count": 3,
   "metadata": {},
   "outputs": [
    {
     "data": {
      "application/json": "[\"QuantumSwapGate\"]",
      "text/html": [
       "<ul><li>QuantumSwapGate</li></ul>"
      ],
      "text/plain": [
       "QuantumSwapGate"
      ]
     },
     "execution_count": 3,
     "metadata": {},
     "output_type": "execute_result"
    }
   ],
   "source": [
    "//*****************************************************************************\n",
    "// Swap quantum bit states between two quantum registers, without using any additional register.\n",
    "//*****************************************************************************\n",
    "\n",
    "    operation QuantumSwapGate() : Unit {\n",
    "        mutable r = new Result[2];\n",
    "        using((qA,qB) = (Qubit(),Qubit()))  { // Allocate Qubits\n",
    "        \n",
    "            //Initialize Qubits\n",
    "            X(qA);\n",
    "            //X(qB);\n",
    "\n",
    "            Message(\"Before swap: qA and qB: [One, Zero]\");\n",
    "\n",
    "            //In Boolean this would have been done using XOR the following way:\n",
    "            //Two bits a, b;\n",
    "            //a = a XOR b;\n",
    "            //b = b XOR a;\n",
    "            //a = a XOR b;\n",
    "            //Value of a and b are swapped \n",
    "\n",
    "            //Please add the logic here\n",
    "            //---------------------\n",
    "            \n",
    "            \n",
    "            //----------------------            \n",
    "            \n",
    "\n",
    "            set r = [M(qA), M(qB)];\n",
    "\n",
    "            Message($\"After swap: qA and qB: {r}\");\n",
    "            Reset(qA);\n",
    "            Reset(qB);\n",
    "\n",
    "        }\n",
    "     }"
   ]
  },
  {
   "cell_type": "code",
   "execution_count": 4,
   "metadata": {},
   "outputs": [
    {
     "name": "stdout",
     "output_type": "stream",
     "text": [
      "Before swap: qA and qB: [One, Zero]\n",
      "After swap: qA and qB: [One,Zero]\n"
     ]
    },
    {
     "data": {
      "application/json": "{\"@type\":\"tuple\"}",
      "text/plain": [
       "()"
      ]
     },
     "execution_count": 4,
     "metadata": {},
     "output_type": "execute_result"
    }
   ],
   "source": [
    "%simulate QuantumSwapGate"
   ]
  }
 ],
 "metadata": {
  "kernelspec": {
   "display_name": "Q#",
   "language": "qsharp",
   "name": "iqsharp"
  },
  "language_info": {
   "file_extension": ".qs",
   "mimetype": "text/x-qsharp",
   "name": "qsharp",
   "version": "0.4"
  }
 },
 "nbformat": 4,
 "nbformat_minor": 2
}
