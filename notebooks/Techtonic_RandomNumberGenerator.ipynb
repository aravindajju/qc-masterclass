{
 "cells": [
  {
   "attachments": {},
   "cell_type": "markdown",
   "metadata": {},
   "source": [
    "# Random Number Generator\n",
    "\n",
    "Use Qubit Superposition and Hadamard Gate to Create a Random Number Generator.\n",
    "\n",
    "\n"
   ]
  },
  {
   "cell_type": "code",
   "execution_count": 1,
   "metadata": {},
   "outputs": [
    {
     "data": {
      "application/json": "[\"RandomNumberGenerator\"]",
      "text/html": [
       "<ul><li>RandomNumberGenerator</li></ul>"
      ],
      "text/plain": [
       "RandomNumberGenerator"
      ]
     },
     "execution_count": 1,
     "metadata": {},
     "output_type": "execute_result"
    }
   ],
   "source": [
    "//*****************************************************************************\n",
    "// Use an array of H gates to create a random number \n",
    "//*****************************************************************************\n",
    "   \n",
    "   \n",
    "   operation RandomNumberGenerator() : Unit {\n",
    "        mutable r = new Result[5];\n",
    "        using(q = Qubit[5])  {\n",
    "\n",
    "            //use H gate for superposition Qubit state\n",
    "            //---------------------\n",
    "            \n",
    "            \n",
    "            //----------------------\n",
    "\n",
    "            set r = [M(q[0]), M(q[1]), M(q[2]), M(q[3]), M(q[4])];\n",
    "            \n",
    "            Message($\"Random Number: {r}\");\n",
    "            for (qindex in 0 .. 4)\n",
    "            {\n",
    "                Reset(q[qindex]);\n",
    "            }\n",
    "\n",
    "        }\n",
    "    }"
   ]
  },
  {
   "cell_type": "code",
   "execution_count": 2,
   "metadata": {},
   "outputs": [
    {
     "name": "stdout",
     "output_type": "stream",
     "text": [
      "Random Number: [One,Zero,One,One,One]\n"
     ]
    },
    {
     "data": {
      "application/json": "{\"@type\":\"tuple\"}",
      "text/plain": [
       "()"
      ]
     },
     "execution_count": 2,
     "metadata": {},
     "output_type": "execute_result"
    }
   ],
   "source": [
    "%simulate RandomNumberGenerator"
   ]
  }
 ],
 "metadata": {
  "kernelspec": {
   "display_name": "Q#",
   "language": "qsharp",
   "name": "iqsharp"
  },
  "language_info": {
   "file_extension": ".qs",
   "mimetype": "text/x-qsharp",
   "name": "qsharp",
   "version": "0.4"
  }
 },
 "nbformat": 4,
 "nbformat_minor": 2
}
