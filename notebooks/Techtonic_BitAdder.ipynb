{
 "cells": [
  {
   "attachments": {},
   "cell_type": "markdown",
   "metadata": {},
   "source": [
    "# Halfbit adder\n",
    "\n",
    "Please program a half-bit adder based on this circuit.\n",
    "\n",
    "![BitAdder](https://dxpxpyb44inxw.cloudfront.net/techtonic/halfbitadder.png)"
   ]
  },
  {
   "cell_type": "code",
   "execution_count": 1,
   "metadata": {},
   "outputs": [
    {
     "data": {
      "application/json": "[\"BitAdder\"]",
      "text/html": [
       "<ul><li>BitAdder</li></ul>"
      ],
      "text/plain": [
       "BitAdder"
      ]
     },
     "execution_count": 1,
     "metadata": {},
     "output_type": "execute_result"
    }
   ],
   "source": [
    "//*****************************************************************************\n",
    "//Add two Qubits in the same way as classic bits\n",
    "//*****************************************************************************\n",
    "\n",
    "    operation BitAdder() : Unit {\n",
    "\n",
    "        mutable r = new Result[4];\n",
    "\n",
    "        using((a,b,c) = (Qubit(),Qubit(),Qubit()))  { // Allocate qubits\n",
    "            //set up initial values for Qubit\n",
    "            X(a);\n",
    "            X(b);\n",
    "            set r = [M(a), M(b)];\n",
    "            Message($\"a,b : {r}\");\n",
    "\n",
    "            //please see the circuit and code the gates here\n",
    "            //---------------------\n",
    "            \n",
    "            \n",
    "            //----------------------            \n",
    "\n",
    "\n",
    "            let carrybit = M(c);\n",
    "            let sumbit= M(b);\n",
    "            Message($\"Sum : {carrybit} {sumbit}\");\n",
    "            Reset(a);\n",
    "            Reset(b);\n",
    "            Reset(c);\n",
    "        }\n",
    "\n",
    "    }"
   ]
  },
  {
   "cell_type": "code",
   "execution_count": 2,
   "metadata": {},
   "outputs": [
    {
     "name": "stdout",
     "output_type": "stream",
     "text": [
      "a,b : [One,One]\n",
      "Sum : Zero One\n"
     ]
    },
    {
     "data": {
      "application/json": "{\"@type\":\"tuple\"}",
      "text/plain": [
       "()"
      ]
     },
     "execution_count": 2,
     "metadata": {},
     "output_type": "execute_result"
    }
   ],
   "source": [
    "%simulate BitAdder"
   ]
  }
 ],
 "metadata": {
  "kernelspec": {
   "display_name": "Q#",
   "language": "qsharp",
   "name": "iqsharp"
  },
  "language_info": {
   "file_extension": ".qs",
   "mimetype": "text/x-qsharp",
   "name": "qsharp",
   "version": "0.4"
  }
 },
 "nbformat": 4,
 "nbformat_minor": 2
}
