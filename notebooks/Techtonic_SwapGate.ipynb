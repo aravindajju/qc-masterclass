{
 "cells": [
  {
   "cell_type": "code",
   "execution_count": 1,
   "metadata": {},
   "outputs": [
    {
     "data": {
      "application/json": "[\"QuantumSwapGate\"]",
      "text/html": [
       "<ul><li>QuantumSwapGate</li></ul>"
      ],
      "text/plain": [
       "QuantumSwapGate"
      ]
     },
     "execution_count": 1,
     "metadata": {},
     "output_type": "execute_result"
    }
   ],
   "source": [
    "//*****************************************************************************\n",
    "// Quantum Swap Gate\n",
    "//*****************************************************************************\n",
    "operation QuantumSwapGate() : Unit {\n",
    "        mutable r = new Result[2];\n",
    "        using(q = Qubit[2])  { // Allocate a qubit.\n",
    "            X(q[0]);\n",
    "            Message(\"Before swap: q0 and q1: [One, Zero]\");\n",
    "            CNOT(q[0], q[1]);\n",
    "            CNOT(q[1], q[0]);\n",
    "            CNOT(q[0], q[1]);\n",
    "            //SWAP(q[0], q[1]);\n",
    "            set r = [M(q[0]), M(q[1])];\n",
    "            Message($\"After swap: q0 and q1: {r}\");\n",
    "            Reset(q[0]);\n",
    "            Reset(q[1]);\n",
    "            //return;\n",
    "        }\n",
    "     }"
   ]
  },
  {
   "cell_type": "code",
   "execution_count": 2,
   "metadata": {},
   "outputs": [
    {
     "name": "stdout",
     "output_type": "stream",
     "text": [
      "Before swap: q0 and q1: [One, Zero]\n",
      "After swap: q0 and q1: [Zero,One]\n"
     ]
    },
    {
     "data": {
      "application/json": "{\"@type\":\"tuple\"}",
      "text/plain": [
       "()"
      ]
     },
     "execution_count": 2,
     "metadata": {},
     "output_type": "execute_result"
    }
   ],
   "source": [
    "%simulate QuantumSwapGate"
   ]
  }
 ],
 "metadata": {
  "kernelspec": {
   "display_name": "Q#",
   "language": "qsharp",
   "name": "iqsharp"
  },
  "language_info": {
   "file_extension": ".qs",
   "mimetype": "text/x-qsharp",
   "name": "qsharp",
   "version": "0.4"
  }
 },
 "nbformat": 4,
 "nbformat_minor": 2
}
