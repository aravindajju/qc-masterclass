{
 "cells": [
  {
   "cell_type": "code",
   "execution_count": 1,
   "metadata": {},
   "outputs": [
    {
     "data": {
      "application/json": "[\"QuantumRandomNumberGenerator\"]",
      "text/html": [
       "<ul><li>QuantumRandomNumberGenerator</li></ul>"
      ],
      "text/plain": [
       "QuantumRandomNumberGenerator"
      ]
     },
     "execution_count": 1,
     "metadata": {},
     "output_type": "execute_result"
    }
   ],
   "source": [
    "//**************************************************************************************************************\n",
    "// Random Number Generation using Quantum Bits\n",
    "// The demo has implementation for 5 qbits, but it can be extended to as many qbits the Quantum System supports\n",
    "//**************************************************************************************************************\n",
    "  \n",
    "  \n",
    "      //open Microsoft.Quantum.Intrinsic;\n",
    "    //open Microsoft.Quantum.Arrays;\n",
    "   // open Microsoft.Quantum.Diagnostics;\n",
    "   // open Microsoft.Quantum.Canon;\n",
    "    \n",
    "    operation QuantumRandomNumberGenerator() : Unit {\n",
    "        mutable r = new Result[5];\n",
    "        using(q = Qubit[5])  { // Allocate a qubit.\n",
    "            //let r = new Int[5];\n",
    "            for (qindex in 0 .. 4)\n",
    "            {\n",
    "                H(q[qindex]);             // Put the qubit to superposition. It now has a 50% chance of being 0 or 1.\n",
    "            }\n",
    "            set r = [M(q[0]), M(q[1]), M(q[2]), M(q[3]), M(q[4])];\n",
    "            Message($\"Random Number: {r}\");\n",
    "            for (qindex in 0 .. 4)\n",
    "            {\n",
    "                Reset(q[qindex]);\n",
    "            }\n",
    "\n",
    "            //return;\n",
    "        }\n",
    "     }"
   ]
  },
  {
   "cell_type": "code",
   "execution_count": 4,
   "metadata": {},
   "outputs": [
    {
     "name": "stdout",
     "output_type": "stream",
     "text": [
      "Random Number: [One,Zero,One,One,Zero]\n"
     ]
    },
    {
     "data": {
      "application/json": "{\"@type\":\"tuple\"}",
      "text/plain": [
       "()"
      ]
     },
     "execution_count": 4,
     "metadata": {},
     "output_type": "execute_result"
    }
   ],
   "source": [
    "%simulate QuantumRandomNumberGenerator"
   ]
  },
  {
   "cell_type": "code",
   "execution_count": null,
   "metadata": {},
   "outputs": [],
   "source": []
  }
 ],
 "metadata": {
  "kernelspec": {
   "display_name": "Q#",
   "language": "qsharp",
   "name": "iqsharp"
  },
  "language_info": {
   "file_extension": ".qs",
   "mimetype": "text/x-qsharp",
   "name": "qsharp",
   "version": "0.4"
  }
 },
 "nbformat": 4,
 "nbformat_minor": 2
}
