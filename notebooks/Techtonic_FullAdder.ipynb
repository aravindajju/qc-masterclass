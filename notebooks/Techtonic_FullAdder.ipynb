{
 "cells": [
  {
   "cell_type": "code",
   "execution_count": 3,
   "metadata": {},
   "outputs": [
    {
     "data": {
      "application/json": "[\"QuantumFullAdder\"]",
      "text/html": [
       "<ul><li>QuantumFullAdder</li></ul>"
      ],
      "text/plain": [
       "QuantumFullAdder"
      ]
     },
     "execution_count": 3,
     "metadata": {},
     "output_type": "execute_result"
    }
   ],
   "source": [
    "//*****************************************************************************\n",
    "// Quantum Full Adder\n",
    "//*****************************************************************************\n",
    "operation QuantumFullAdder() : Unit {\n",
    "        mutable r = new Result[4];\n",
    "        using(q = Qubit[4])  { // Allocate a qubit.\n",
    "            X(q[0]);\n",
    "            //X(q[1]);\n",
    "            //X(q[2]);\n",
    "            CCNOT(q[0], q[1], q[3]);\n",
    "            CNOT(q[0], q[1]);\n",
    "            CCNOT(q[1], q[2], q[3]);\n",
    "            CNOT(q[1], q[2]);\n",
    "            CNOT(q[0], q[1]);\n",
    "            set r = [M(q[0]), M(q[1]), M(q[2]), M(q[3])];\n",
    "            Message($\"a1, a2, Sum(a1+a2) and Carry(c2): {r}\");\n",
    "            Reset(q[0]);\n",
    "            Reset(q[1]);\n",
    "            Reset(q[2]);\n",
    "            Reset(q[3]);\n",
    "            //return;\n",
    "        }\n",
    "     }"
   ]
  },
  {
   "cell_type": "code",
   "execution_count": 4,
   "metadata": {},
   "outputs": [
    {
     "name": "stdout",
     "output_type": "stream",
     "text": [
      "a1, a2, Sum(a1+a2) and Carry(c2): [One,Zero,One,Zero]\n"
     ]
    },
    {
     "data": {
      "application/json": "{\"@type\":\"tuple\"}",
      "text/plain": [
       "()"
      ]
     },
     "execution_count": 4,
     "metadata": {},
     "output_type": "execute_result"
    }
   ],
   "source": [
    "%simulate QuantumFullAdder"
   ]
  }
 ],
 "metadata": {
  "kernelspec": {
   "display_name": "Q#",
   "language": "qsharp",
   "name": "iqsharp"
  },
  "language_info": {
   "file_extension": ".qs",
   "mimetype": "text/x-qsharp",
   "name": "qsharp",
   "version": "0.4"
  }
 },
 "nbformat": 4,
 "nbformat_minor": 2
}
